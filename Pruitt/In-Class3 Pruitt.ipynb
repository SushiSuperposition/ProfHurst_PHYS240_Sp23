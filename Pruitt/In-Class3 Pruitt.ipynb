{
 "cells": [
  {
   "cell_type": "code",
   "execution_count": 1,
   "id": "795a9ada",
   "metadata": {},
   "outputs": [],
   "source": [
    "# Balle - Program to compute the trajectory of a baseball using the Euler method.\n",
    "\n",
    "# Set up configuration options and special features\n",
    "import numpy as np\n",
    "import matplotlib.pyplot as plt"
   ]
  },
  {
   "cell_type": "code",
   "execution_count": 9,
   "id": "371bf259",
   "metadata": {},
   "outputs": [],
   "source": [
    "def intrpf(xi, x, y):\n",
    "    \"\"\"\n",
    "    Function to interpolate between data points using Lagrange polynomial (quadratic).\n",
    "    :param xi: The x value where interpolation is computed\n",
    "    :param x: Vector of x coordinates of data points (3 values)\n",
    "    :param y: Vector of y coordinates of data points (3 values)\n",
    "    :return yi: The interpolation polynomial evaluated at xi\n",
    "    \"\"\"\n",
    "    # Calculate yi = p(xi) using the Lagrange polynomial\n",
    "    yi = (\n",
    "        ((xi - x[1]) * (xi - x[2])) / ((x[0] - x[1]) * (x[0] - x[2])) * y[0]\n",
    "        + ((xi - x[0]) * (xi - x[2])) / ((x[1] - x[0]) * (x[1] - x[2])) * y[1]\n",
    "        + ((xi - x[0]) * (xi - x[1])) / ((x[2] - x[0]) * (x[2] - x[1])) * y[2]\n",
    "    )\n",
    "\n",
    "    return yi"
   ]
  },
  {
   "cell_type": "code",
   "execution_count": 16,
   "id": "c05abb57",
   "metadata": {},
   "outputs": [
    {
     "name": "stdout",
     "output_type": "stream",
     "text": [
      "Maximum range is 261.63 meters\n",
      "Time of flight is 7.3 seconds\n"
     ]
    }
   ],
   "source": [
    "\n",
    "\n",
    "# Set initial position and velocity of the baseball\n",
    "y0 = 0\n",
    "r0 = np.array([0., y0])  # Initial vector position\n",
    "speed = 50\n",
    "theta = 45\n",
    "\n",
    "v0 = np.array([speed * np.cos(theta*np.pi/180), speed * np.sin(theta*np.pi/180)])  # initial velocity\n",
    "r = np.copy(r0)  # Set initial position\n",
    "v = np.copy(v0)  # Set initial velocity\n",
    "\n",
    "# Set physical parameters (mass, Cd, etc.)\n",
    "Cd = 0.35  # Drag coefficient (dimensionless)\n",
    "area = 4.3e-3  # Cross-sectional area of projectile (m^2)\n",
    "mass = 0.145   # Mass of projectile (kg)\n",
    "grav = 9.81    # Gravitational acceleration (m/s^2)\n",
    "\n",
    "# Set air resistance flag\n",
    "# airFlag = eval(input('Add air resistance? (Yes: 1 No: 0)'))\n",
    "airFlag = 0\n",
    "if airFlag == 0:\n",
    "    rho = 0.       # No air resistance\n",
    "    air_text = '(no air)'\n",
    "else:\n",
    "    rho = 1.2     # Density of air (kg/m^3)\n",
    "    air_text = '(with air)'\n",
    "air_const = -0.5*Cd*rho*area/mass   # Air resistance constant\n",
    "\n",
    "# * Loop until ball hits ground or max steps completed\n",
    "# tau = eval(input('Enter timestep dt in seconds: '))  # (sec)\n",
    "tau = .1\n",
    "maxstep = 1000\n",
    "laststep = maxstep\n",
    "\n",
    "# Set up arrays for data\n",
    "xplot = np.empty(maxstep)\n",
    "yplot = np.empty(maxstep)\n",
    "\n",
    "x_noAir = np.empty(maxstep)\n",
    "y_noAir = np.empty(maxstep)\n",
    "\n",
    "for istep in range(maxstep):\n",
    "    t = istep * tau  # Current time\n",
    "\n",
    "    # Record computed position for plotting\n",
    "    xplot[istep] = r[0]\n",
    "    yplot[istep] = r[1]\n",
    "\n",
    "    x_noAir[istep] = r0[0] + v0[0]*t\n",
    "    y_noAir[istep] = r0[1] + v0[1]*t - 0.5*grav*t**2\n",
    "\n",
    "    # Calculate the acceleration of the ball\n",
    "    accel = air_const * np.linalg.norm(v) * v  # Air resistance\n",
    "    accel[1] = accel[1] - grav # update y acceleration to include gravity\n",
    "\n",
    "    # Calculate the new position and velocity using Euler's method.\n",
    "    r = r + tau * v  # Euler step\n",
    "    v = v + tau * accel\n",
    "#     If the ball reaches the ground (i.e. y < 0), break out of the loop\n",
    "    if r[1] <= 0:\n",
    "        laststep = istep\n",
    "        xplot[laststep] = r[0]  # Record last values completed\n",
    "        yplot[laststep] = r[1]\n",
    "\n",
    "        # x_noAir[laststep] = r0[0] + v0[0] * t\n",
    "        # y_noAir[laststep] = r0[1] + v0[1] * t - 0.5 * grav * t ** 2\n",
    "        break  # Break out of the for loop\n",
    "\n",
    "# # Print maximum range and time of flight\n",
    "print('Maximum range is {0:.2f} meters'.format(r[0]))\n",
    "print('Time of flight is {0:.1f} seconds'.format(laststep * tau))\n",
    "\n"
   ]
  },
  {
   "cell_type": "code",
   "execution_count": 11,
   "id": "abf38ec2",
   "metadata": {},
   "outputs": [
    {
     "name": "stdout",
     "output_type": "stream",
     "text": [
      "[251.02290732 254.55844123 261.62950904]\n",
      "[ 7.24440732  3.81484123 -3.33859096]\n"
     ]
    }
   ],
   "source": [
    "xinter = xplot[laststep-2:laststep+1] # +1 to include negative value from previous overestimation\n",
    "yinter = yplot[laststep-2:laststep+1]\n",
    "xguess = (xinter[-1] + xinter[-2])/2\n",
    "tol = 1e-3\n",
    "xguess_arr = np.arange(xguess, xinter[-1], tol)\n",
    "\n",
    "print(xinter)\n",
    "print(yinter)"
   ]
  },
  {
   "cell_type": "code",
   "execution_count": 14,
   "id": "b4a63650",
   "metadata": {},
   "outputs": [
    {
     "name": "stdout",
     "output_type": "stream",
     "text": [
      "Maximum range is 258.38 meters\n",
      "Time of flight is 7.3 seconds\n"
     ]
    }
   ],
   "source": [
    "\n",
    "for i,x in enumerate(xguess_arr):\n",
    "#     print(f'{x} : {intrpf(x, xinter, yinter)}')\n",
    "    if(intrpf(x, xinter, yinter)<0):\n",
    "        stopiter = i-1\n",
    "        break\n",
    "\n",
    "max_range = xguess_arr[stopiter]\n",
    "# Print maximum range and time of flight\n",
    "print(f'Corrected Maximum range is {max_range:.2f} meters')\n",
    "print(f'Corrected Time of flight is {laststep * tau:.1f} seconds')\n"
   ]
  },
  {
   "cell_type": "code",
   "execution_count": 15,
   "id": "b2f60117",
   "metadata": {},
   "outputs": [
    {
     "data": {
      "image/png": "[encoded data removed]",
      "text/plain": [
       "<Figure size 432x288 with 1 Axes>"
      ]
     },
     "metadata": {
      "needs_background": "light"
     },
     "output_type": "display_data"
    }
   ],
   "source": [
    "# Graph the trajectory of the baseball\n",
    "fig, ax = plt.subplots()\n",
    "ax.set_title('Projectile Motion: ' + air_text)\n",
    "ax.plot(x_noAir[:laststep+1], y_noAir[:laststep+1], '-', c='C2', label='Theory (no air)')\n",
    "ax.plot(xplot[:laststep], yplot[:laststep], '+', label='Euler method')\n",
    "# Mark the location of the ground by a straight line\n",
    "ax.plot(np.array([0.0, x_noAir[laststep]]), np.array([0.0, 0.0]), '-', color='k')\n",
    "ax.legend(frameon=False)\n",
    "ax.set_xlabel('Range (m)')\n",
    "ax.set_ylabel('Height (m)')\n",
    "\n",
    "plt.show()\n"
   ]
  },
  {
   "cell_type": "code",
   "execution_count": null,
   "id": "80bcaf00",
   "metadata": {},
   "outputs": [],
   "source": []
  }
 ],
 "metadata": {
  "kernelspec": {
   "display_name": "Python 3 (ipykernel)",
   "language": "python",
   "name": "python3"
  },
  "language_info": {
   "codemirror_mode": {
    "name": "ipython",
    "version": 3
   },
   "file_extension": ".py",
   "mimetype": "text/x-python",
   "name": "python",
   "nbconvert_exporter": "python",
   "pygments_lexer": "ipython3",
   "version": "3.9.12"
  }
 },
 "nbformat": 4,
 "nbformat_minor": 5
}
